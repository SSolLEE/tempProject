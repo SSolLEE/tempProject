{
 "cells": [
  {
   "cell_type": "code",
   "execution_count": 33,
   "id": "bd45d72f-43f4-4a77-a476-9266fc9dbe67",
   "metadata": {},
   "outputs": [
    {
     "name": "stdout",
     "output_type": "stream",
     "text": [
      "{\n",
      "\t\"lastBuildDate\":\"Tue, 08 Aug 2023 17:15:41 +0900\",\n",
      "\t\"total\":1,\n",
      "\t\"start\":1,\n",
      "\t\"display\":1,\n",
      "\t\"items\":[\n",
      "\t\t{\n",
      "\t\t\t\"title\":\"진주회관\",\n",
      "\t\t\t\"link\":\"\",\n",
      "\t\t\t\"category\":\"한식>국수\",\n",
      "\t\t\t\"description\":\"\",\n",
      "\t\t\t\"telephone\":\"\",\n",
      "\t\t\t\"address\":\"서울특별시 중구 서소문동 120-35\",\n",
      "\t\t\t\"roadAddress\":\"서울특별시 중구 세종대로11길 26\",\n",
      "\t\t\t\"mapx\":\"309600\",\n",
      "\t\t\t\"mapy\":\"551619\"\n",
      "\t\t}\n",
      "\t]\n",
      "}\n"
     ]
    }
   ],
   "source": [
    "import os\n",
    "import sys\n",
    "import urllib.request\n",
    "client_id = \"az86r4BgJAF3lD_Mz7pn\"\n",
    "client_secret = \"5ZKe_9ufNd\"\n",
    "encText = urllib.parse.quote(\"맛집\")\n",
    "url = \"https://openapi.naver.com/v1/search/local.json?query=\" + encText # JSON 결과\n",
    "# url = \"https://openapi.naver.com/v1/search/blog.xml?query=\" + encText # XML 결과\n",
    "request = urllib.request.Request(url)\n",
    "request.add_header(\"X-Naver-Client-Id\",client_id)\n",
    "request.add_header(\"X-Naver-Client-Secret\",client_secret)\n",
    "response = urllib.request.urlopen(request)\n",
    "rescode = response.getcode()\n",
    "if(rescode==200):\n",
    "    response_body = response.read()\n",
    "    print(response_body.decode('utf-8'))\n",
    "else:\n",
    "    print(\"Error Code:\" + rescode)"
   ]
  },
  {
   "cell_type": "code",
   "execution_count": 9,
   "id": "820b4578-be8a-4ce0-87a3-f39a4b687dc8",
   "metadata": {},
   "outputs": [],
   "source": [
    "client_id = \"az86r4BgJAF3lD_Mz7pn\"\n",
    "client_secret = \"5ZKe_9ufNd\""
   ]
  },
  {
   "cell_type": "code",
   "execution_count": 34,
   "id": "3b968c10-6036-4e80-8dc7-52af41694282",
   "metadata": {},
   "outputs": [
    {
     "ename": "SyntaxError",
     "evalue": "invalid syntax (410034211.py, line 12)",
     "output_type": "error",
     "traceback": [
      "\u001b[1;36m  Cell \u001b[1;32mIn[34], line 12\u001b[1;36m\u001b[0m\n\u001b[1;33m    url_middle=\"$&start=\"﻿                                                #키워드 이후부터 숫자 사이\u001b[0m\n\u001b[1;37m    ^\u001b[0m\n\u001b[1;31mSyntaxError\u001b[0m\u001b[1;31m:\u001b[0m invalid syntax\n"
     ]
    }
   ],
   "source": [
    "import requests\n",
    "from urllib.parse import quote     #이 패키지는 한글을 ascii코드로 변환할 때 쓰입니다!!\n",
    "import pandas as pd                #return 받은 값들을 나중에는 데이터프레임 형태로 저장할 거에요!\n",
    "\n",
    "client_id = \"az86r4BgJAF3lD_Mz7pn\"\n",
    "client_secret = \"5ZKe_9ufNd\"\n",
    "headers = {'X-Naver-Client-Id':client_id, 'X-Naver-Client-Secret':client_secret}\n",
    "\n",
    "#위 url을 분리하면, 다음과 같이 가능하다.\n",
    "url_base=\"https://openapi.naver.com/v1/search/local.json?query=\"     #url의 앞부분, 키워드 입력 전까지~\n",
    "keyword = quote(input(\"검색 키워드를 입력하세요. : \")                   #input으로 받은 문자열을 ascii코드로 변환합니다!\n",
    "url_middle=\"$&start=\"﻿                                                #키워드 이후부터 숫자 사이\n",
    "number=input(\"몇 번째부터 검색할까요? : \")                      #start값을 받습니다\n",
    "\n",
    "url = url_base + keyword + url_middle + number\n",
    "\n",
    "result = requests.get(url,headers = headers).json()                  #결과값을 변수로 지정\n",
    "result                                                               #결과값 출력\n",
    "\n",
    "\n"
   ]
  },
  {
   "cell_type": "code",
   "execution_count": 24,
   "id": "1178db14-7f60-4aa1-b0ef-ce89142974db",
   "metadata": {},
   "outputs": [],
   "source": [
    "import json\n",
    "import requests"
   ]
  },
  {
   "cell_type": "code",
   "execution_count": 25,
   "id": "616f6a77-78ef-4599-b924-eb76d07845e0",
   "metadata": {},
   "outputs": [],
   "source": [
    "\n",
    "url = \"https://openapi.naver.com/v1/search/local.json\""
   ]
  },
  {
   "cell_type": "code",
   "execution_count": 26,
   "id": "3d882977-f3c7-4841-bf4b-15df690e9420",
   "metadata": {},
   "outputs": [],
   "source": [
    "nheaders = {\n",
    "    \"X-Naver-Client-Id: {az86r4BgJAF3lD_Mz7pn}\" \n",
    "    \"X-Naver-Client-Secret: {5ZKe_9ufNd}\" \n",
    "}"
   ]
  },
  {
   "cell_type": "code",
   "execution_count": 2,
   "id": "3081cb8e-f3b9-4605-aaac-2d87d2c1c69f",
   "metadata": {
    "scrolled": true
   },
   "outputs": [
    {
     "name": "stdout",
     "output_type": "stream",
     "text": [
      "{'lastBuildDate': 'Wed, 09 Aug 2023 22:00:18 +0900', 'total': 5, 'start': 1, 'display': 5, 'items': [{'title': '마라공방 성신여대점', 'link': 'https://blog.naver.com/pheby8888', 'category': '중식>마라탕', 'description': '', 'telephone': '', 'address': '서울특별시 성북구 동선동1가 2-4 1층 101호', 'roadAddress': '서울특별시 성북구 동소문로20나길 13 1층 101호', 'mapx': '313426', 'mapy': '554893'}, {'title': '매운향솥 마라탕 마라샹궈', 'link': 'http://youtu.be/gMnLMBdkTjg', 'category': '중식>중식당', 'description': '', 'telephone': '', 'address': '서울특별시 광진구 자양동 9-33 1층', 'roadAddress': '서울특별시 광진구 동일로18길 61 1층', 'mapx': '317681', 'mapy': '548963'}, {'title': '<b>서울</b>신라호텔 더 파크뷰', 'link': 'https://www.shilla.net/seoul/dining/viewDining.do?contId=PAR#ad-image-0', 'category': '음식점>뷔페', 'description': '', 'telephone': '', 'address': '서울특별시 중구 장충동2가 202', 'roadAddress': '서울특별시 중구 동호로 249', 'mapx': '312299', 'mapy': '550876'}, {'title': '천궁전마라탕', 'link': 'http://instagram.com/pheby888', 'category': '중식>중식당', 'description': '', 'telephone': '', 'address': '서울특별시 서대문구 창천동 57-7 2층', 'roadAddress': '서울특별시 서대문구 연세로5가길 3 2층', 'mapx': '306209', 'mapy': '551088'}, {'title': '목란', 'link': '', 'category': '중식>중식당', 'description': '', 'telephone': '', 'address': '서울특별시 서대문구 연희동 132-28', 'roadAddress': '서울특별시 서대문구 연희로15길 21', 'mapx': '305719', 'mapy': '552334'}]}\n"
     ]
    }
   ],
   "source": [
    "import json\n",
    "import requests\n",
    "\n",
    "headers = {\n",
    "    \"X-Naver-Client-Id\": \"az86r4BgJAF3lD_Mz7pn\", \n",
    "    \"X-Naver-Client-Secret\":\"5ZKe_9ufNd\" \n",
    "}\n",
    "query = '서울 중식'\n",
    "params = {\n",
    "    'query' : query,\n",
    "    'display' : 5,\n",
    "    'start' : 1,\n",
    "    'sort' : 'comment'\n",
    "}\n",
    "search_url = \"https://openapi.naver.com/v1/search/local.json\"\n",
    "\n",
    "res = requests.get(search_url, headers=headers, params=params)\n",
    "# res.status_code\n",
    "json_df = res.json()\n",
    "print(json_df)\n",
    "          "
   ]
  },
  {
   "cell_type": "code",
   "execution_count": 5,
   "id": "43ae5d1e-d8fa-4de6-a259-d93332282b2d",
   "metadata": {},
   "outputs": [
    {
     "name": "stdout",
     "output_type": "stream",
     "text": [
      "                 title                                               link  \\\n",
      "0           마라공방 성신여대점                   https://blog.naver.com/pheby8888   \n",
      "1        매운향솥 마라탕 마라샹궈                        http://youtu.be/gMnLMBdkTjg   \n",
      "2  <b>서울</b>신라호텔 더 파크뷰  https://www.shilla.net/seoul/dining/viewDining...   \n",
      "3               천궁전마라탕                      http://instagram.com/pheby888   \n",
      "4                   목란                                                      \n",
      "\n",
      "  category description telephone                      address  \\\n",
      "0   중식>마라탕                        서울특별시 성북구 동선동1가 2-4 1층 101호   \n",
      "1   중식>중식당                              서울특별시 광진구 자양동 9-33 1층   \n",
      "2   음식점>뷔페                                 서울특별시 중구 장충동2가 202   \n",
      "3   중식>중식당                             서울특별시 서대문구 창천동 57-7 2층   \n",
      "4   중식>중식당                              서울특별시 서대문구 연희동 132-28   \n",
      "\n",
      "                     roadAddress    mapx    mapy  \n",
      "0  서울특별시 성북구 동소문로20나길 13 1층 101호  313426  554893  \n",
      "1         서울특별시 광진구 동일로18길 61 1층  317681  548963  \n",
      "2               서울특별시 중구 동호로 249  312299  550876  \n",
      "3         서울특별시 서대문구 연세로5가길 3 2층  306209  551088  \n",
      "4           서울특별시 서대문구 연희로15길 21  305719  552334  \n"
     ]
    }
   ],
   "source": [
    "import pandas as pd\n",
    "good_res_jr = json_df['items']\n",
    "data_jr = pd.DataFrame(good_res_jr)\n",
    "print(data_jr)"
   ]
  },
  {
   "cell_type": "code",
   "execution_count": 9,
   "id": "2518d480-e08e-498f-9bd8-5a529b20780c",
   "metadata": {},
   "outputs": [
    {
     "data": {
      "text/html": [
       "<div>\n",
       "<style scoped>\n",
       "    .dataframe tbody tr th:only-of-type {\n",
       "        vertical-align: middle;\n",
       "    }\n",
       "\n",
       "    .dataframe tbody tr th {\n",
       "        vertical-align: top;\n",
       "    }\n",
       "\n",
       "    .dataframe thead th {\n",
       "        text-align: right;\n",
       "    }\n",
       "</style>\n",
       "<table border=\"1\" class=\"dataframe\">\n",
       "  <thead>\n",
       "    <tr style=\"text-align: right;\">\n",
       "      <th></th>\n",
       "      <th>title</th>\n",
       "      <th>category</th>\n",
       "    </tr>\n",
       "  </thead>\n",
       "  <tbody>\n",
       "    <tr>\n",
       "      <th>0</th>\n",
       "      <td>마라공방 성신여대점</td>\n",
       "      <td>중식&gt;마라탕</td>\n",
       "    </tr>\n",
       "    <tr>\n",
       "      <th>1</th>\n",
       "      <td>매운향솥 마라탕 마라샹궈</td>\n",
       "      <td>중식&gt;중식당</td>\n",
       "    </tr>\n",
       "    <tr>\n",
       "      <th>2</th>\n",
       "      <td>&lt;b&gt;서울&lt;/b&gt;신라호텔 더 파크뷰</td>\n",
       "      <td>음식점&gt;뷔페</td>\n",
       "    </tr>\n",
       "    <tr>\n",
       "      <th>3</th>\n",
       "      <td>천궁전마라탕</td>\n",
       "      <td>중식&gt;중식당</td>\n",
       "    </tr>\n",
       "    <tr>\n",
       "      <th>4</th>\n",
       "      <td>목란</td>\n",
       "      <td>중식&gt;중식당</td>\n",
       "    </tr>\n",
       "  </tbody>\n",
       "</table>\n",
       "</div>"
      ],
      "text/plain": [
       "                 title category\n",
       "0           마라공방 성신여대점   중식>마라탕\n",
       "1        매운향솥 마라탕 마라샹궈   중식>중식당\n",
       "2  <b>서울</b>신라호텔 더 파크뷰   음식점>뷔페\n",
       "3               천궁전마라탕   중식>중식당\n",
       "4                   목란   중식>중식당"
      ]
     },
     "execution_count": 9,
     "metadata": {},
     "output_type": "execute_result"
    }
   ],
   "source": [
    "data1 = data_jr.loc[:, ['title', 'category']]\n",
    "data1"
   ]
  },
  {
   "cell_type": "code",
   "execution_count": 71,
   "id": "827c83c9-5ba3-4725-a515-1c2c339b374c",
   "metadata": {},
   "outputs": [],
   "source": [
    "data_jr.to_csv(\"종로구맛집\", index=False)"
   ]
  },
  {
   "cell_type": "code",
   "execution_count": null,
   "id": "7d67b90e-f40b-4389-9d3a-ac8e2dccabb1",
   "metadata": {},
   "outputs": [],
   "source": [
    "import json\n",
    "import requests\n",
    "\n",
    "headers = {\n",
    "    \"X-Naver-Client-Id\": \"az86r4BgJAF3lD_Mz7pn\", \n",
    "    \"X-Naver-Client-Secret\":\"5ZKe_9ufNd\" \n",
    "}\n",
    "query = '종로구 맛집'\n",
    "params = {\n",
    "    'query' : query,\n",
    "    'display' : 1000,\n",
    "    'sort' : 'comment'\n",
    "}\n",
    "search_url = \"https://openapi.naver.com/v1/search/local.json\"\n",
    "\n",
    "res = requests.get(search_url, headers=headers, params=params)\n",
    "# res.status_code\n",
    "json_df = res.json()\n",
    "print(json_df)\n",
    "          "
   ]
  },
  {
   "cell_type": "code",
   "execution_count": null,
   "id": "182f2154-38b8-4482-a105-6b46fa07d5d3",
   "metadata": {},
   "outputs": [],
   "source": [
    "import pandas as pd\n",
    "good_res_jr = json_df['items']\n",
    "data_jr = pd.DataFrame(good_res_jr)\n",
    "print(data_jr)"
   ]
  },
  {
   "cell_type": "code",
   "execution_count": null,
   "id": "4d630a87-67a1-4bd7-bde9-f83678bba26a",
   "metadata": {},
   "outputs": [],
   "source": [
    "data_ys.to_csv(\"용산구맛집\", index=False)"
   ]
  }
 ],
 "metadata": {
  "kernelspec": {
   "display_name": "Python 3 (ipykernel)",
   "language": "python",
   "name": "python3"
  },
  "language_info": {
   "codemirror_mode": {
    "name": "ipython",
    "version": 3
   },
   "file_extension": ".py",
   "mimetype": "text/x-python",
   "name": "python",
   "nbconvert_exporter": "python",
   "pygments_lexer": "ipython3",
   "version": "3.9.13"
  }
 },
 "nbformat": 4,
 "nbformat_minor": 5
}
