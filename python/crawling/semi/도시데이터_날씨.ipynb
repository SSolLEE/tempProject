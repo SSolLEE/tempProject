{
 "cells": [
  {
   "cell_type": "code",
   "execution_count": 1,
   "id": "e7862c82-5567-4833-a06c-983272834604",
   "metadata": {},
   "outputs": [
    {
     "name": "stdout",
     "output_type": "stream",
     "text": [
      "Requirement already satisfied: xmltodict in c:\\users\\user\\desktop\\tempproject\\venv\\lib\\site-packages (0.13.0)\n"
     ]
    }
   ],
   "source": [
    "!pip install xmltodict"
   ]
  },
  {
   "cell_type": "code",
   "execution_count": 2,
   "id": "1788aece-05b7-4e7d-a7dc-41169576e480",
   "metadata": {},
   "outputs": [],
   "source": [
    "import pandas as pd\n",
    "import numpy as np\n",
    "import seaborn as sns\n",
    "import requests\n",
    "import matplotlib.pyplot as plt\n",
    "import xmltodict\n",
    "import requests\n",
    "import datetime\n",
    "import warnings\n",
    "warnings.filterwarnings('ignore')"
   ]
  },
  {
   "cell_type": "markdown",
   "id": "f75e6a80-a452-4018-b420-336abd4ac8b3",
   "metadata": {},
   "source": [
    "## API 연결\n",
    "- 서울 실시간 도시 데이터 ( https://data.seoul.go.kr/dataList/OA-21285/A/1/datasetView.do )"
   ]
  },
  {
   "cell_type": "code",
   "execution_count": 3,
   "id": "babd4d97-2d94-408d-a62a-3d633e35e01e",
   "metadata": {},
   "outputs": [
    {
     "name": "stdout",
     "output_type": "stream",
     "text": [
      "<Response [200]>\n"
     ]
    }
   ],
   "source": [
    "# 접속 확인\n",
    "SERVICE_KEY = '69576567536c736f3133357542784147'\n",
    "url_default = 'http://openapi.seoul.go.kr:8088/{}/xml/citydata/'.format(SERVICE_KEY)\n",
    "\n",
    "req_test = requests.get(url_default)\n",
    "print(req_test)"
   ]
  },
  {
   "cell_type": "markdown",
   "id": "ba0ed67e-fcc7-403a-8b96-546e4af304fc",
   "metadata": {},
   "source": [
    "## 호출함수 정의"
   ]
  },
  {
   "cell_type": "code",
   "execution_count": 18,
   "id": "639500bf-fdc2-4dd2-904d-5f7052448151",
   "metadata": {},
   "outputs": [
    {
     "ename": "NameError",
     "evalue": "name 'result' is not defined",
     "output_type": "error",
     "traceback": [
      "\u001b[1;31m---------------------------------------------------------------------------\u001b[0m",
      "\u001b[1;31mNameError\u001b[0m                                 Traceback (most recent call last)",
      "Cell \u001b[1;32mIn[18], line 1\u001b[0m\n\u001b[1;32m----> 1\u001b[0m \u001b[38;5;28;01mdef\u001b[39;00m \u001b[38;5;21mcall_API\u001b[39m(start_idx\u001b[38;5;241m=\u001b[39m\u001b[38;5;241m1\u001b[39m, end_idx\u001b[38;5;241m=\u001b[39m\u001b[38;5;241m1\u001b[39m, loc_code\u001b[38;5;241m=\u001b[39m\u001b[43mresult\u001b[49m):\n\u001b[0;32m      2\u001b[0m     result \u001b[38;5;241m=\u001b[39m []  \u001b[38;5;66;03m# result 리스트 초기화는 반복문 밖에서 수행되어야 합니다.\u001b[39;00m\n\u001b[0;32m      4\u001b[0m     \u001b[38;5;28;01mfor\u001b[39;00m num \u001b[38;5;129;01min\u001b[39;00m \u001b[38;5;28mrange\u001b[39m(\u001b[38;5;241m1\u001b[39m, \u001b[38;5;241m114\u001b[39m):\n",
      "\u001b[1;31mNameError\u001b[0m: name 'result' is not defined"
     ]
    }
   ],
   "source": [
    "def call_API(start_idx=1, end_idx=1, loc_code=result):\n",
    "    result = []  # result 리스트 초기화는 반복문 밖에서 수행되어야 합니다.\n",
    "    \n",
    "    for num in range(1, 114):\n",
    "        place = 'POI' + f'{num:03}'\n",
    "        result.append(place)\n",
    "    \n",
    "    for p in result:\n",
    "        url = \"http://openapi.seoul.go.kr:8088/69576567536c736f3133357542784147/xml/citydata/\" + str(start_idx) + \"/\" + str(end_idx) + \"/\" + str(loc_code)\n",
    "        response = requests.get(url)"
   ]
  },
  {
   "cell_type": "code",
   "execution_count": 15,
   "id": "dd603ca8-05fe-4608-b27e-ea08ab04aec1",
   "metadata": {},
   "outputs": [
    {
     "ename": "TypeError",
     "evalue": "a bytes-like object is required, not 'NoneType'",
     "output_type": "error",
     "traceback": [
      "\u001b[1;31m---------------------------------------------------------------------------\u001b[0m",
      "\u001b[1;31mTypeError\u001b[0m                                 Traceback (most recent call last)",
      "Cell \u001b[1;32mIn[15], line 2\u001b[0m\n\u001b[0;32m      1\u001b[0m text \u001b[38;5;241m=\u001b[39m call_API()\n\u001b[1;32m----> 2\u001b[0m data_dict \u001b[38;5;241m=\u001b[39m \u001b[43mxmltodict\u001b[49m\u001b[38;5;241;43m.\u001b[39;49m\u001b[43mparse\u001b[49m\u001b[43m(\u001b[49m\u001b[43mtext\u001b[49m\u001b[43m)\u001b[49m\n",
      "File \u001b[1;32m~\\Desktop\\tempProject\\venv\\lib\\site-packages\\xmltodict.py:378\u001b[0m, in \u001b[0;36mparse\u001b[1;34m(xml_input, encoding, expat, process_namespaces, namespace_separator, disable_entities, process_comments, **kwargs)\u001b[0m\n\u001b[0;32m    376\u001b[0m     parser\u001b[38;5;241m.\u001b[39mParse(\u001b[38;5;124mb\u001b[39m\u001b[38;5;124m'\u001b[39m\u001b[38;5;124m'\u001b[39m,\u001b[38;5;28;01mTrue\u001b[39;00m)\n\u001b[0;32m    377\u001b[0m \u001b[38;5;28;01melse\u001b[39;00m:\n\u001b[1;32m--> 378\u001b[0m     \u001b[43mparser\u001b[49m\u001b[38;5;241;43m.\u001b[39;49m\u001b[43mParse\u001b[49m\u001b[43m(\u001b[49m\u001b[43mxml_input\u001b[49m\u001b[43m,\u001b[49m\u001b[43m \u001b[49m\u001b[38;5;28;43;01mTrue\u001b[39;49;00m\u001b[43m)\u001b[49m\n\u001b[0;32m    379\u001b[0m \u001b[38;5;28;01mreturn\u001b[39;00m handler\u001b[38;5;241m.\u001b[39mitem\n",
      "\u001b[1;31mTypeError\u001b[0m: a bytes-like object is required, not 'NoneType'"
     ]
    }
   ],
   "source": [
    "text = call_API()\n",
    "data_dict = xmltodict.parse(text)"
   ]
  },
  {
   "cell_type": "code",
   "execution_count": 6,
   "id": "14ff4b5c-4312-4c03-939e-6ba79c9416a0",
   "metadata": {},
   "outputs": [
    {
     "data": {
      "text/plain": [
       "dict_keys(['WEATHER_TIME', 'TEMP', 'SENSIBLE_TEMP', 'MAX_TEMP', 'MIN_TEMP', 'HUMIDITY', 'WIND_DIRCT', 'WIND_SPD', 'PRECIPITATION', 'PRECPT_TYPE', 'PCP_MSG', 'SUNRISE', 'SUNSET', 'UV_INDEX_LVL', 'UV_INDEX', 'UV_MSG', 'PM25_INDEX', 'PM25', 'PM10_INDEX', 'PM10', 'AIR_IDX', 'AIR_IDX_MVL', 'AIR_IDX_MAIN', 'AIR_MSG', 'FCST24HOURS', 'NEWS_LIST'])"
      ]
     },
     "execution_count": 6,
     "metadata": {},
     "output_type": "execute_result"
    }
   ],
   "source": [
    "data_dict['SeoulRtd.citydata']['CITYDATA']['WEATHER_STTS']['WEATHER_STTS'].keys()"
   ]
  },
  {
   "cell_type": "code",
   "execution_count": 8,
   "id": "a095cc71-9c9a-41a0-b753-312686c4140d",
   "metadata": {},
   "outputs": [
    {
     "data": {
      "text/html": [
       "<div>\n",
       "<style scoped>\n",
       "    .dataframe tbody tr th:only-of-type {\n",
       "        vertical-align: middle;\n",
       "    }\n",
       "\n",
       "    .dataframe tbody tr th {\n",
       "        vertical-align: top;\n",
       "    }\n",
       "\n",
       "    .dataframe thead th {\n",
       "        text-align: right;\n",
       "    }\n",
       "</style>\n",
       "<table border=\"1\" class=\"dataframe\">\n",
       "  <thead>\n",
       "    <tr style=\"text-align: right;\">\n",
       "      <th></th>\n",
       "      <th>WEATHER_TIME</th>\n",
       "      <th>TEMP</th>\n",
       "      <th>SENSIBLE_TEMP</th>\n",
       "      <th>MAX_TEMP</th>\n",
       "      <th>MIN_TEMP</th>\n",
       "      <th>HUMIDITY</th>\n",
       "      <th>WIND_DIRCT</th>\n",
       "      <th>WIND_SPD</th>\n",
       "      <th>PRECIPITATION</th>\n",
       "      <th>PRECPT_TYPE</th>\n",
       "      <th>...</th>\n",
       "      <th>PM25_INDEX</th>\n",
       "      <th>PM25</th>\n",
       "      <th>PM10_INDEX</th>\n",
       "      <th>PM10</th>\n",
       "      <th>AIR_IDX</th>\n",
       "      <th>AIR_IDX_MVL</th>\n",
       "      <th>AIR_IDX_MAIN</th>\n",
       "      <th>AIR_MSG</th>\n",
       "      <th>FCST24HOURS</th>\n",
       "      <th>NEWS_LIST</th>\n",
       "    </tr>\n",
       "  </thead>\n",
       "  <tbody>\n",
       "    <tr>\n",
       "      <th>0</th>\n",
       "      <td>2023-08-24 14:51</td>\n",
       "      <td>27.3</td>\n",
       "      <td>29</td>\n",
       "      <td>31</td>\n",
       "      <td>25</td>\n",
       "      <td>76</td>\n",
       "      <td>ENE</td>\n",
       "      <td>1.7</td>\n",
       "      <td>-</td>\n",
       "      <td>없음</td>\n",
       "      <td>...</td>\n",
       "      <td>좋음</td>\n",
       "      <td>1</td>\n",
       "      <td>좋음</td>\n",
       "      <td>6</td>\n",
       "      <td>좋음</td>\n",
       "      <td>44.0</td>\n",
       "      <td>O3</td>\n",
       "      <td>대기질에 이상이 없어요.</td>\n",
       "      <td>{'FCST24HOURS': [{'FCST_DT': '202308241500', '...</td>\n",
       "      <td>{'NEWS_LIST': [{'WARN_VAL': '폭염', 'WARN_STRESS...</td>\n",
       "    </tr>\n",
       "  </tbody>\n",
       "</table>\n",
       "<p>1 rows × 26 columns</p>\n",
       "</div>"
      ],
      "text/plain": [
       "       WEATHER_TIME  TEMP SENSIBLE_TEMP MAX_TEMP MIN_TEMP HUMIDITY WIND_DIRCT  \\\n",
       "0  2023-08-24 14:51  27.3            29       31       25       76        ENE   \n",
       "\n",
       "  WIND_SPD PRECIPITATION PRECPT_TYPE  ... PM25_INDEX PM25 PM10_INDEX PM10  \\\n",
       "0      1.7             -          없음  ...         좋음    1         좋음    6   \n",
       "\n",
       "  AIR_IDX AIR_IDX_MVL AIR_IDX_MAIN        AIR_MSG  \\\n",
       "0      좋음        44.0           O3  대기질에 이상이 없어요.   \n",
       "\n",
       "                                         FCST24HOURS  \\\n",
       "0  {'FCST24HOURS': [{'FCST_DT': '202308241500', '...   \n",
       "\n",
       "                                           NEWS_LIST  \n",
       "0  {'NEWS_LIST': [{'WARN_VAL': '폭염', 'WARN_STRESS...  \n",
       "\n",
       "[1 rows x 26 columns]"
      ]
     },
     "execution_count": 8,
     "metadata": {},
     "output_type": "execute_result"
    }
   ],
   "source": [
    "weather_df = pd.DataFrame([data_dict['SeoulRtd.citydata']['CITYDATA']['WEATHER_STTS']['WEATHER_STTS']])\n",
    "weather_df"
   ]
  },
  {
   "cell_type": "code",
   "execution_count": null,
   "id": "2af5da11-4ef5-4c94-a9ed-32d3623b837f",
   "metadata": {},
   "outputs": [],
   "source": [
    "import requests\n",
    "from bs4 import BeautifulSoup\n",
    "import pandas as pd\n",
    "import xml.etree.ElementTree as ET\n",
    "\n",
    "result = []\n",
    "for num in range(1, 114):\n",
    "    place = 'POI' + f'{num:03}'  # 숫자를 세 자리로 포맷팅하여 문자열 생성\n",
    "    result.append(place)\n",
    "\n",
    "# print(result)  # 결과 출력\n",
    "\n",
    "for p in result:\n",
    "    url = \"http://openapi.seoul.go.kr:8088/69576567536c736f3133357542784147/xml/citydata/1/5/\"+str(p)\n",
    "    req = requests.get(url)\n",
    "\n",
    "soup = BeautifulSoup(response.content, \"html.parser\")\n",
    "\n",
    "if response.status_code == 200:\n",
    "    data = xmltodict.parse(response.text)\n",
    "    \n",
    "    # 실제 데이터가 있는 키 확인 및 사용\n",
    "    city_data = data['SeoulRtd.citydata']['CITYDATA']['LIVE_PPLTN_STTS']['LIVE_PPLTN_STTS']\n",
    "    \n",
    "    # DataFrame 생성을 위한 딕셔너리 초기화\n",
    "    city_data_dict = {\n",
    "        'AREA_CONGEST_LVL': [],\n",
    "        'AREA_CONGEST_MSG': [],\n",
    "        'AREA_PPLTN_MIN': [],\n",
    "        'AREA_PPLTN_MAX': [],\n",
    "        'MALE_PPLTN_RATE': [],\n",
    "        'FEMALE_PPLTN_RATE': [],\n",
    "        'PPLTN_RATE_0': [],\n",
    "        'PPLTN_RATE_10': [],\n",
    "        'PPLTN_RATE_20': [],\n",
    "        'PPLTN_RATE_30': [],\n",
    "        'PPLTN_RATE_40': [],\n",
    "        'PPLTN_RATE_50': [],\n",
    "        'PPLTN_RATE_60': [],\n",
    "        'PPLTN_RATE_70': [],\n",
    "        'RESNT_PPLTN_RATE': [],\n",
    "        'NON_RESNT_PPLTN_RATE': [],\n",
    "        'REPLACE_YN': [],\n",
    "        'PPLTN_TIME': [],\n",
    "        'FCST_YN': []\n",
    "    }\n",
    "    \n",
    "    # 데이터 추출 및 딕셔너리에 추가\n",
    "    city_data_dict['AREA_CONGEST_LVL'].append(city_data['AREA_CONGEST_LVL'])\n",
    "    city_data_dict['AREA_CONGEST_MSG'].append(city_data['AREA_CONGEST_MSG'])\n",
    "    city_data_dict['AREA_PPLTN_MIN'].append(city_data['AREA_PPLTN_MIN'])\n",
    "    city_data_dict['AREA_PPLTN_MAX'].append(city_data['AREA_PPLTN_MAX'])\n",
    "    city_data_dict['MALE_PPLTN_RATE'].append(city_data['MALE_PPLTN_RATE'])\n",
    "    city_data_dict['FEMALE_PPLTN_RATE'].append(city_data['FEMALE_PPLTN_RATE'])\n",
    "    city_data_dict['PPLTN_RATE_0'].append(city_data['PPLTN_RATE_0'])\n",
    "    city_data_dict['PPLTN_RATE_10'].append(city_data['PPLTN_RATE_10'])\n",
    "    city_data_dict['PPLTN_RATE_20'].append(city_data['PPLTN_RATE_20'])\n",
    "    city_data_dict['PPLTN_RATE_30'].append(city_data['PPLTN_RATE_30'])\n",
    "    city_data_dict['PPLTN_RATE_40'].append(city_data['PPLTN_RATE_40'])\n",
    "    city_data_dict['PPLTN_RATE_50'].append(city_data['PPLTN_RATE_50'])\n",
    "    city_data_dict['PPLTN_RATE_60'].append(city_data['PPLTN_RATE_60'])\n",
    "    city_data_dict['PPLTN_RATE_70'].append(city_data['PPLTN_RATE_70'])\n",
    "    city_data_dict['RESNT_PPLTN_RATE'].append(city_data['RESNT_PPLTN_RATE'])\n",
    "    city_data_dict['NON_RESNT_PPLTN_RATE'].append(city_data['NON_RESNT_PPLTN_RATE'])\n",
    "    city_data_dict['REPLACE_YN'].append(city_data['REPLACE_YN'])\n",
    "    city_data_dict['PPLTN_TIME'].append(city_data['PPLTN_TIME'])\n",
    "    city_data_dict['FCST_YN'].append(city_data['FCST_YN'])\n",
    "    \n",
    "    # DataFrame 생성\n",
    "    data1 = pd.DataFrame(city_data_dict)\n",
    "    \n",
    "    # DataFrame 정보 출력\n",
    "    data1.info()\n",
    "else:\n",
    "    print(\"Error:\", response.status_code)"
   ]
  },
  {
   "cell_type": "code",
   "execution_count": 20,
   "id": "c8b97b85-c228-4fa3-ae26-645285c13df9",
   "metadata": {},
   "outputs": [
    {
     "name": "stdout",
     "output_type": "stream",
     "text": [
      "http://openapi.seoul.go.kr:8088/69576567536c736f3133357542784147/xml/citydata/1/5/POI001\n",
      "http://openapi.seoul.go.kr:8088/69576567536c736f3133357542784147/xml/citydata/1/5/POI002\n"
     ]
    }
   ],
   "source": [
    "import requests\n",
    "from bs4 import BeautifulSoup\n",
    "import pandas as pd\n",
    "import xml.etree.ElementTree as ET\n",
    "\n",
    "result = []\n",
    "for num in range(1, 114):\n",
    "    place = 'POI' + f'{num:03}'  # 숫자를 세 자리로 포맷팅하여 문자열 생성\n",
    "    result.append(place)\n",
    "\n",
    "# print(result)  # 결과 출력\n",
    "\n",
    "for p in result:\n",
    "    url = \"http://openapi.seoul.go.kr:8088/69576567536c736f3133357542784147/xml/citydata/1/5/\"+str(p)\n",
    "    req = requests.get(url)\n",
    "    "
   ]
  },
  {
   "cell_type": "code",
   "execution_count": null,
   "id": "7a68a285-6d3d-4e77-9a15-6232c78de22b",
   "metadata": {},
   "outputs": [],
   "source": []
  }
 ],
 "metadata": {
  "kernelspec": {
   "display_name": "Python 3 (ipykernel)",
   "language": "python",
   "name": "python3"
  },
  "language_info": {
   "codemirror_mode": {
    "name": "ipython",
    "version": 3
   },
   "file_extension": ".py",
   "mimetype": "text/x-python",
   "name": "python",
   "nbconvert_exporter": "python",
   "pygments_lexer": "ipython3",
   "version": "3.9.13"
  }
 },
 "nbformat": 4,
 "nbformat_minor": 5
}
