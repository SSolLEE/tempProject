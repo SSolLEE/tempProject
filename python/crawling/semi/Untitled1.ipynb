{
 "cells": [
  {
   "cell_type": "markdown",
   "id": "36c26490-d8af-44f2-afff-0625ce5370e4",
   "metadata": {},
   "source": [
    "# 날씨 데이터와 승객 수 시각화\n",
    "- 월 평균 데이터 : 기온, 강수량, 상대습도\n",
    "- 일일 데이터 : 기온, 강수량, 체감온도\n",
    "- 우선 월별 총 승객수 대상으로 시작"
   ]
  },
  {
   "cell_type": "code",
   "execution_count": null,
   "id": "e00d29f4-eb4c-4765-8f3c-09f2886c73e9",
   "metadata": {},
   "outputs": [],
   "source": [
    "import pandas as pd\n",
    "\n"
   ]
  }
 ],
 "metadata": {
  "kernelspec": {
   "display_name": "Python 3 (ipykernel)",
   "language": "python",
   "name": "python3"
  },
  "language_info": {
   "codemirror_mode": {
    "name": "ipython",
    "version": 3
   },
   "file_extension": ".py",
   "mimetype": "text/x-python",
   "name": "python",
   "nbconvert_exporter": "python",
   "pygments_lexer": "ipython3",
   "version": "3.9.13"
  }
 },
 "nbformat": 4,
 "nbformat_minor": 5
}
