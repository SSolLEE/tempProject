{
 "cells": [
  {
   "cell_type": "code",
   "execution_count": 1,
   "id": "0ca1b7c2-81d0-417d-8fbc-ed64d89f68c1",
   "metadata": {},
   "outputs": [
    {
     "name": "stdout",
     "output_type": "stream",
     "text": [
      "      행정동    Status\n",
      "0  110101  Modified\n",
      "1  220202    Normal\n",
      "2  110103  Modified\n",
      "3  330404    Normal\n"
     ]
    }
   ],
   "source": [
    "import pandas as pd\n",
    "\n",
    "# 예시 DataFrame 생성\n",
    "data = {'행정동': ['110101', '220202', '110103', '330404'],\n",
    "        'Status': ['Normal', 'Normal', 'Normal', 'Normal']}\n",
    "df = pd.DataFrame(data)\n",
    "\n",
    "# '행정동' 컬럼 값에 '11'이 포함되면 'Status' 값을 'Modified'로 변경\n",
    "df.loc[df['행정동'].str.contains('11'), 'Status'] = 'Modified'\n",
    "\n",
    "print(df)"
   ]
  }
 ],
 "metadata": {
  "kernelspec": {
   "display_name": "Python 3 (ipykernel)",
   "language": "python",
   "name": "python3"
  },
  "language_info": {
   "codemirror_mode": {
    "name": "ipython",
    "version": 3
   },
   "file_extension": ".py",
   "mimetype": "text/x-python",
   "name": "python",
   "nbconvert_exporter": "python",
   "pygments_lexer": "ipython3",
   "version": "3.9.13"
  }
 },
 "nbformat": 4,
 "nbformat_minor": 5
}
