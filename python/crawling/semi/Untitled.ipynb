{
 "cells": [
  {
   "cell_type": "markdown",
   "id": "6f3e4b68-5e55-47aa-b613-c27f35b97ca3",
   "metadata": {},
   "source": [
    "# 이것저것 시각화\n",
    "- 열심히 그려보자 읏짜"
   ]
  },
  {
   "cell_type": "markdown",
   "id": "dc6d6c01-75c9-4572-9c2b-7b445b13ecce",
   "metadata": {},
   "source": [
    "### 시각화 라이브러리"
   ]
  },
  {
   "cell_type": "code",
   "execution_count": 2,
   "id": "fb744fca-4445-42a3-8e0e-e6f25d8bef67",
   "metadata": {},
   "outputs": [],
   "source": [
    "import numpy as np\n",
    "import matplotlib.pyplot as plt\n",
    "%matplotlib inline\n",
    "import seaborn as sns\n",
    "import warnings\n",
    "warnings.filterwarnings(\"ignore\", category=UserWarning)"
   ]
  },
  {
   "cell_type": "code",
   "execution_count": 3,
   "id": "9b3dbe2c-1134-4946-a826-294fb2a2cf35",
   "metadata": {},
   "outputs": [
    {
     "name": "stdout",
     "output_type": "stream",
     "text": [
      "Windows\n"
     ]
    }
   ],
   "source": [
    "import platform\n",
    "print(platform.system())\n",
    "# 운영체제별 한글 폰트 설정\n",
    "if platform.system() == 'Darwin': # Mac 환경 폰트 설정\n",
    "    plt.rc('font', family='AppleGothic')\n",
    "elif platform.system() == 'Windows': # Windows 환경 폰트 설정\n",
    "    plt.rc('font', family='Malgun Gothic')\n",
    "\n",
    "plt.rc('axes', unicode_minus=False) # 마이너스 폰트 설정\n",
    "\n",
    "\n",
    "# 글씨 선명하게 출력하는 설정\n",
    "%config InlineBackend.figure_format = 'retina'"
   ]
  },
  {
   "cell_type": "markdown",
   "id": "049bc564-94d6-4827-ac6d-99a3749f9275",
   "metadata": {},
   "source": [
    "## pi chart : 1~9호선 출퇴근시간 제일 혼잡한 곳"
   ]
  },
  {
   "cell_type": "markdown",
   "id": "f624b7bc-1bdd-4607-8697-55758b00fd62",
   "metadata": {},
   "source": [
    "## 혼잡도 히트맵"
   ]
  },
  {
   "cell_type": "markdown",
   "id": "ff595ae2-6d84-4ad8-abbb-89ed627fe08d",
   "metadata": {},
   "source": [
    "## 날씨에 따른 승객 - 산점도, 막대그래프"
   ]
  },
  {
   "cell_type": "markdown",
   "id": "46adb530-fe01-4164-9344-98e96e6050df",
   "metadata": {},
   "source": [
    "## x호선 시간대별 혼잡도 또는 승객 수 막대그래프"
   ]
  },
  {
   "cell_type": "markdown",
   "id": "d2a5436d-953a-4432-a819-d2be5837833a",
   "metadata": {},
   "source": [
    "## 날씨(기온, 습도, 강수량) 또는 혼잡도"
   ]
  },
  {
   "cell_type": "markdown",
   "id": "6f5df1fb-3818-4040-8d75-8358fa535963",
   "metadata": {},
   "source": [
    "## 노선도 히트맵 - 호선 하나 정해서 하루/한달 승객수 히트맵"
   ]
  }
 ],
 "metadata": {
  "kernelspec": {
   "display_name": "Python 3 (ipykernel)",
   "language": "python",
   "name": "python3"
  },
  "language_info": {
   "codemirror_mode": {
    "name": "ipython",
    "version": 3
   },
   "file_extension": ".py",
   "mimetype": "text/x-python",
   "name": "python",
   "nbconvert_exporter": "python",
   "pygments_lexer": "ipython3",
   "version": "3.9.13"
  }
 },
 "nbformat": 4,
 "nbformat_minor": 5
}
