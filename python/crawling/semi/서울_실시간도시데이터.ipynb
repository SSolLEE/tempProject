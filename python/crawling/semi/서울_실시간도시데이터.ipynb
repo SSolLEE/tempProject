{
 "cells": [
  {
   "cell_type": "code",
   "execution_count": 18,
   "id": "171b84ec-b476-4252-8697-0e7cef83fe8b",
   "metadata": {},
   "outputs": [
    {
     "name": "stdout",
     "output_type": "stream",
     "text": [
      "<Response [200]>\n"
     ]
    }
   ],
   "source": [
    "## https://data.seoul.go.kr/dataList/OA-21285/F/1/datasetView.do\n",
    "import requests\n",
    "\n",
    "url= \"http://openapi.seoul.go.kr:8088/69576567536c736f3133357542784147/xml/citydata/1/5/광화문·덕수궁\"\n",
    "req = requests.get(url)\n",
    "print(req)"
   ]
  },
  {
   "cell_type": "code",
   "execution_count": 19,
   "id": "10efe754-7b57-48b6-b97f-499d8e3775de",
   "metadata": {},
   "outputs": [
    {
     "name": "stdout",
     "output_type": "stream",
     "text": [
      "Requirement already satisfied: xmltodict in c:\\users\\user\\desktop\\tempproject\\venv\\lib\\site-packages (0.13.0)\n"
     ]
    }
   ],
   "source": [
    "!pip install xmltodict"
   ]
  },
  {
   "cell_type": "code",
   "execution_count": 20,
   "id": "ed5961c3-66f5-490c-93c6-4b634e2b3666",
   "metadata": {},
   "outputs": [],
   "source": [
    "import xmltodict"
   ]
  },
  {
   "cell_type": "code",
   "execution_count": 23,
   "id": "0e95b7e5-c8f8-417c-90ad-2a4be560639a",
   "metadata": {},
   "outputs": [],
   "source": [
    "import requests\n",
    "import pandas as pd\n",
    "\n",
    "data = xmltodict.parse(req.text)\n",
    "# data"
   ]
  },
  {
   "cell_type": "code",
   "execution_count": 24,
   "id": "3f5a8d9c-5f34-42ef-89b5-50ed7555557f",
   "metadata": {},
   "outputs": [
    {
     "name": "stdout",
     "output_type": "stream",
     "text": [
      "<class 'pandas.core.frame.DataFrame'>\n",
      "Index: 26 entries, AIR_IDX to WIND_SPD\n",
      "Data columns (total 1 columns):\n",
      " #   Column        Non-Null Count  Dtype \n",
      "---  ------        --------------  ----- \n",
      " 0   WEATHER_STTS  25 non-null     object\n",
      "dtypes: object(1)\n",
      "memory usage: 416.0+ bytes\n"
     ]
    }
   ],
   "source": [
    "data1 = pd.DataFrame(data['SeoulRtd.citydata']['CITYDATA']['WEATHER_STTS'])\n",
    "data1.info()\n",
    "# (data['SeoulRtd.citydata']['CITYDATA']\n",
    "#                      ['LIVE_PPLTN_STTS']['ROAD_TRAFFIC_STTS']['PRK_STTS']['SUB_STTS']['BUS_STN_STTS']\n",
    "#                     ['SBIKE_STTS']['WEATHER_STTS']['CHARGER_STTS']['EVENT_STTS'])"
   ]
  },
  {
   "cell_type": "code",
   "execution_count": 25,
   "id": "20f21689-43f8-46d1-9500-9086651d7b5a",
   "metadata": {},
   "outputs": [
    {
     "data": {
      "text/html": [
       "<div>\n",
       "<style scoped>\n",
       "    .dataframe tbody tr th:only-of-type {\n",
       "        vertical-align: middle;\n",
       "    }\n",
       "\n",
       "    .dataframe tbody tr th {\n",
       "        vertical-align: top;\n",
       "    }\n",
       "\n",
       "    .dataframe thead th {\n",
       "        text-align: right;\n",
       "    }\n",
       "</style>\n",
       "<table border=\"1\" class=\"dataframe\">\n",
       "  <thead>\n",
       "    <tr style=\"text-align: right;\">\n",
       "      <th></th>\n",
       "      <th>WEATHER_STTS</th>\n",
       "    </tr>\n",
       "  </thead>\n",
       "  <tbody>\n",
       "    <tr>\n",
       "      <th>AIR_IDX</th>\n",
       "      <td>보통</td>\n",
       "    </tr>\n",
       "    <tr>\n",
       "      <th>AIR_IDX_MAIN</th>\n",
       "      <td>PM-2.5</td>\n",
       "    </tr>\n",
       "    <tr>\n",
       "      <th>AIR_IDX_MVL</th>\n",
       "      <td>56.0</td>\n",
       "    </tr>\n",
       "    <tr>\n",
       "      <th>AIR_MSG</th>\n",
       "      <td>호흡기가 예민하신 분들은 몸상태 유의하며 활동해주세요.</td>\n",
       "    </tr>\n",
       "    <tr>\n",
       "      <th>FCST24HOURS</th>\n",
       "      <td>{'FCST24HOURS': [{'FCST_DT': '202308211000', '...</td>\n",
       "    </tr>\n",
       "    <tr>\n",
       "      <th>HUMIDITY</th>\n",
       "      <td>73</td>\n",
       "    </tr>\n",
       "    <tr>\n",
       "      <th>MAX_TEMP</th>\n",
       "      <td>32</td>\n",
       "    </tr>\n",
       "    <tr>\n",
       "      <th>MIN_TEMP</th>\n",
       "      <td>25</td>\n",
       "    </tr>\n",
       "    <tr>\n",
       "      <th>NEWS_LIST</th>\n",
       "      <td>None</td>\n",
       "    </tr>\n",
       "    <tr>\n",
       "      <th>PCP_MSG</th>\n",
       "      <td>비 또는 눈 소식이 없어요.</td>\n",
       "    </tr>\n",
       "    <tr>\n",
       "      <th>PM10</th>\n",
       "      <td>31</td>\n",
       "    </tr>\n",
       "    <tr>\n",
       "      <th>PM10_INDEX</th>\n",
       "      <td>보통</td>\n",
       "    </tr>\n",
       "    <tr>\n",
       "      <th>PM25</th>\n",
       "      <td>23</td>\n",
       "    </tr>\n",
       "    <tr>\n",
       "      <th>PM25_INDEX</th>\n",
       "      <td>보통</td>\n",
       "    </tr>\n",
       "    <tr>\n",
       "      <th>PRECIPITATION</th>\n",
       "      <td>-</td>\n",
       "    </tr>\n",
       "    <tr>\n",
       "      <th>PRECPT_TYPE</th>\n",
       "      <td>없음</td>\n",
       "    </tr>\n",
       "    <tr>\n",
       "      <th>SENSIBLE_TEMP</th>\n",
       "      <td>30.3</td>\n",
       "    </tr>\n",
       "    <tr>\n",
       "      <th>SUNRISE</th>\n",
       "      <td>05:52</td>\n",
       "    </tr>\n",
       "    <tr>\n",
       "      <th>SUNSET</th>\n",
       "      <td>19:18</td>\n",
       "    </tr>\n",
       "    <tr>\n",
       "      <th>TEMP</th>\n",
       "      <td>28.8</td>\n",
       "    </tr>\n",
       "    <tr>\n",
       "      <th>UV_INDEX</th>\n",
       "      <td>낮음</td>\n",
       "    </tr>\n",
       "    <tr>\n",
       "      <th>UV_INDEX_LVL</th>\n",
       "      <td>1</td>\n",
       "    </tr>\n",
       "    <tr>\n",
       "      <th>UV_MSG</th>\n",
       "      <td>햇볕에 민감한 분들은 자외선 차단제를 발라주세요.</td>\n",
       "    </tr>\n",
       "    <tr>\n",
       "      <th>WEATHER_TIME</th>\n",
       "      <td>2023-08-21 09:12</td>\n",
       "    </tr>\n",
       "    <tr>\n",
       "      <th>WIND_DIRCT</th>\n",
       "      <td>NE</td>\n",
       "    </tr>\n",
       "    <tr>\n",
       "      <th>WIND_SPD</th>\n",
       "      <td>1.7</td>\n",
       "    </tr>\n",
       "  </tbody>\n",
       "</table>\n",
       "</div>"
      ],
      "text/plain": [
       "                                                    WEATHER_STTS\n",
       "AIR_IDX                                                       보통\n",
       "AIR_IDX_MAIN                                              PM-2.5\n",
       "AIR_IDX_MVL                                                 56.0\n",
       "AIR_MSG                           호흡기가 예민하신 분들은 몸상태 유의하며 활동해주세요.\n",
       "FCST24HOURS    {'FCST24HOURS': [{'FCST_DT': '202308211000', '...\n",
       "HUMIDITY                                                      73\n",
       "MAX_TEMP                                                      32\n",
       "MIN_TEMP                                                      25\n",
       "NEWS_LIST                                                   None\n",
       "PCP_MSG                                          비 또는 눈 소식이 없어요.\n",
       "PM10                                                          31\n",
       "PM10_INDEX                                                    보통\n",
       "PM25                                                          23\n",
       "PM25_INDEX                                                    보통\n",
       "PRECIPITATION                                                  -\n",
       "PRECPT_TYPE                                                   없음\n",
       "SENSIBLE_TEMP                                               30.3\n",
       "SUNRISE                                                    05:52\n",
       "SUNSET                                                     19:18\n",
       "TEMP                                                        28.8\n",
       "UV_INDEX                                                      낮음\n",
       "UV_INDEX_LVL                                                   1\n",
       "UV_MSG                               햇볕에 민감한 분들은 자외선 차단제를 발라주세요.\n",
       "WEATHER_TIME                                    2023-08-21 09:12\n",
       "WIND_DIRCT                                                    NE\n",
       "WIND_SPD                                                     1.7"
      ]
     },
     "execution_count": 25,
     "metadata": {},
     "output_type": "execute_result"
    }
   ],
   "source": [
    "data1"
   ]
  },
  {
   "cell_type": "code",
   "execution_count": null,
   "id": "4fdf9c7e-2b0b-4712-95c1-ffb8db3aa14f",
   "metadata": {},
   "outputs": [],
   "source": []
  }
 ],
 "metadata": {
  "kernelspec": {
   "display_name": "Python 3 (ipykernel)",
   "language": "python",
   "name": "python3"
  },
  "language_info": {
   "codemirror_mode": {
    "name": "ipython",
    "version": 3
   },
   "file_extension": ".py",
   "mimetype": "text/x-python",
   "name": "python",
   "nbconvert_exporter": "python",
   "pygments_lexer": "ipython3",
   "version": "3.9.13"
  }
 },
 "nbformat": 4,
 "nbformat_minor": 5
}
