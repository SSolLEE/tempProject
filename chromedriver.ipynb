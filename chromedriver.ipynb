{
 "cells": [
  {
   "cell_type": "code",
   "execution_count": 2,
   "id": "8ddc2df1-9e95-4bfe-ba09-79d71dbfdebc",
   "metadata": {},
   "outputs": [
    {
     "name": "stdout",
     "output_type": "stream",
     "text": [
      "4.11.0\n"
     ]
    }
   ],
   "source": [
    "import selenium\n",
    "print(selenium.__version__)"
   ]
  },
  {
   "cell_type": "code",
   "execution_count": 3,
   "id": "b2a3eef2-5a83-428e-ac4e-59a142f5193c",
   "metadata": {},
   "outputs": [
    {
     "name": "stdout",
     "output_type": "stream",
     "text": [
      "driver/\n",
      "    chromedriver.exe\n",
      "    LICENSE.chromedriver\n"
     ]
    }
   ],
   "source": [
    "import os\n",
    "\n",
    "def list_files(startpath):\n",
    "    for root, dirs, files in os.walk(startpath):\n",
    "        level = root.replace(startpath, '').count(os.sep)\n",
    "        indent = ' ' * 4 * (level)\n",
    "        print('{}{}/'.format(indent, os.path.basename(root)))\n",
    "        subindent = ' ' * 4 * (level + 1)\n",
    "        for f in files:\n",
    "            print('{}{}'.format(subindent, f))\n",
    "\n",
    "list_files(\"driver\")"
   ]
  },
  {
   "cell_type": "code",
   "execution_count": 4,
   "id": "3813804c-9a08-41f3-8f18-c76dedaf4e3a",
   "metadata": {},
   "outputs": [],
   "source": [
    "from selenium import webdriver\n",
    "from selenium.webdriver.chrome.service import Service\n",
    "import time \n",
    "\n",
    "CHROME_DRIVER_PATH = './driver/chromedriver.exe'\n",
    "service = Service(executable_path=CHROME_DRIVER_PATH)\n",
    "options = webdriver.ChromeOptions()\n",
    "driver = webdriver.Chrome(service=service, options=options)\n",
    "\n",
    "#크롬 드라이버에 url 주소 넣고 실행\n",
    "driver.get('https://www.google.co.kr/')\n",
    "\n",
    "# 페이지가 완전히 로딩되도록 3초동안 기다림\n",
    "time.sleep(3)"
   ]
  },
  {
   "cell_type": "code",
   "execution_count": 5,
   "id": "abb1a897-e1c1-437f-8b91-d78a670c7ef9",
   "metadata": {},
   "outputs": [],
   "source": [
    "from selenium import webdriver\n",
    "from selenium.webdriver.chrome.service import Service as ChromeService\n",
    "from webdriver_manager.chrome import ChromeDriverManager\n",
    "\n",
    "driver = webdriver.Chrome(service=ChromeService(ChromeDriverManager().install()))\n",
    "driver.get('https://www.naver.com/')"
   ]
  },
  {
   "cell_type": "code",
   "execution_count": 6,
   "id": "b97c4eaa-e64e-43fc-95c3-0e43847d0a3c",
   "metadata": {},
   "outputs": [],
   "source": [
    "driver.quit()"
   ]
  },
  {
   "cell_type": "code",
   "execution_count": 7,
   "id": "e3b5a16f-c17e-4384-84b3-3b3433b668b4",
   "metadata": {},
   "outputs": [],
   "source": [
    "## 구글 이미지 다운로드"
   ]
  },
  {
   "cell_type": "code",
   "execution_count": 16,
   "id": "add3d22d-8e34-4e92-8578-914306ede0b3",
   "metadata": {},
   "outputs": [
    {
     "name": "stdout",
     "output_type": "stream",
     "text": [
      " 찾은 이미지 개수: 48\n"
     ]
    }
   ],
   "source": [
    "from selenium import webdriver\n",
    "from selenium.webdriver.chrome.service import Service as ChromeService\n",
    "from webdriver_manager.chrome import ChromeDriverManager\n",
    "from selenium.webdriver.common.keys import Keys\n",
    "from selenium.webdriver.common.by import By\n",
    "import time\n",
    "\n",
    "driver = webdriver.Chrome(service=ChromeService(ChromeDriverManager().install()))\n",
    "URL='https://www.google.co.kr/imghp'\n",
    "driver.get(url=URL)\n",
    "\n",
    "elem = driver.find_element(By.CSS_SELECTOR, \"body > div.L3eUgb > div.o3j99.ikrT4e.om7nvf > form > div:nth-child(1) > div.A8SBwf > div.RNNXgb > div > div.a4bIc > textarea.gLFyf\")\n",
    "elem.send_keys(\"보라카이\")\n",
    "elem.send_keys(Keys.RETURN)  # enter\n",
    "\n",
    "elem = driver.find_element(By.TAG_NAME, \"body\")\n",
    "for i in range(60):\n",
    "    elem.send_keys(Keys.PAGE_DOWN)\n",
    "    time.sleep(0.1)\n",
    "\n",
    "try:\n",
    "    driver.find_element(By.CSS_SELCTOR, \"#islmp > div > div > div > div.gBPM8 > div.qvfT1 > div.YstHxe > input\").click()\n",
    "    for i in range(60):\n",
    "        elem.send_keys(Keys.PAGE_DOWN)\n",
    "        time.sleep(0.1)\n",
    "except:\n",
    "    pass\n",
    "\n",
    "links=[] \n",
    "images = driver.find_elements(By.CSS_SELECTOR, \"#islrg > div.islrc > div > a.wXeWr.islib.nfEiy > div.bRMDJf.islir > img\")\n",
    "\n",
    "for image in images:\n",
    "    if image.get_attribute('src') is not None:\n",
    "        links.append(image.get_attribute('src'))\n",
    "        \n",
    "print(' 찾은 이미지 개수:',len(links))"
   ]
  },
  {
   "cell_type": "code",
   "execution_count": 17,
   "id": "36d30a0e-37bc-4eeb-b300-354dc7fed926",
   "metadata": {},
   "outputs": [
    {
     "name": "stdout",
     "output_type": "stream",
     "text": [
      "다운로드 완료하였습니다.\n"
     ]
    }
   ],
   "source": [
    "import urllib.request\n",
    "\n",
    "for k, i in enumerate(links):\n",
    "    url = i\n",
    "    urllib.request.urlretrieve(url, \".\\\\사진다운로드\\\\\"+str(k)+\".jpg\")\n",
    "\n",
    "print('다운로드 완료하였습니다.')"
   ]
  },
  {
   "cell_type": "code",
   "execution_count": 18,
   "id": "4b43c1ec-3a3c-4a85-9bd0-9a11654cf848",
   "metadata": {},
   "outputs": [],
   "source": [
    "driver.quit()"
   ]
  },
  {
   "cell_type": "code",
   "execution_count": 20,
   "id": "a0caa7ca-c7a0-4a96-8164-d7b5c9254a87",
   "metadata": {},
   "outputs": [],
   "source": [
    "# 검색어 추출"
   ]
  },
  {
   "cell_type": "code",
   "execution_count": 30,
   "id": "2719dbdb-5c51-42e5-bb25-449b1d99027a",
   "metadata": {},
   "outputs": [
    {
     "data": {
      "text/plain": [
       "['잼버리',\n",
       " '살인 예고 글',\n",
       " '태풍 카눈 북상에',\n",
       " '류현진',\n",
       " '세계 고양이의 날',\n",
       " '파두',\n",
       " '경상수지 58.7억달러',\n",
       " '최원종',\n",
       " '입추',\n",
       " '초전도체']"
      ]
     },
     "execution_count": 30,
     "metadata": {},
     "output_type": "execute_result"
    }
   ],
   "source": [
    "from selenium import webdriver\n",
    "from selenium.webdriver.chrome.service import Service as ChromeService\n",
    "from webdriver_manager.chrome import ChromeDriverManager\n",
    "from selenium.webdriver.common.keys import Keys\n",
    "from selenium.webdriver.common.by import By\n",
    "import time\n",
    "\n",
    "driver = webdriver.Chrome(service=ChromeService(ChromeDriverManager().install()))\n",
    "URL='https://signal.bz/news' \n",
    "driver.get(url=URL)\n",
    "results = driver.find_elements(By.CSS_SELECTOR, \"#app > div > main > div > section > div > section > section:nth-child(2) > div:nth-child(2) > div > div > div > a > span.rank-text\")\n",
    "results\n",
    "\n",
    "keyword_list = []\n",
    "for keyword in results:\n",
    "    # print(keyword.text)\n",
    "    keyword_list.append(keyword.text)\n",
    "keyword_list"
   ]
  },
  {
   "cell_type": "code",
   "execution_count": 31,
   "id": "fb6612be-b896-4c4e-9c92-089f346bf119",
   "metadata": {},
   "outputs": [],
   "source": [
    "driver.quit()"
   ]
  },
  {
   "cell_type": "code",
   "execution_count": null,
   "id": "003f3d60-4feb-42a6-850f-c4950a9b52d4",
   "metadata": {},
   "outputs": [],
   "source": [
    "### 미션: 네이트 실시간 이슈 키워드 10개 "
   ]
  },
  {
   "cell_type": "code",
   "execution_count": 45,
   "id": "dcf05921-fc6b-4ec9-b3b7-72635b12eb12",
   "metadata": {},
   "outputs": [
    {
     "name": "stdout",
     "output_type": "stream",
     "text": [
      "['6_잼버리 대원들', '7_서울대공원서 시베리아호랑이 파악', '8_中 윤동주 폐쇄', '9_입추', '10_신성록', '1_태풍 카눈 북상에', '2_경상수지 두 달', '3_잼버리', '4_류현진 강습 타구', '5_사고 위장 부사관']\n"
     ]
    }
   ],
   "source": [
    "from selenium import webdriver\n",
    "from selenium.webdriver.chrome.service import Service as ChromeService\n",
    "from webdriver_manager.chrome import ChromeDriverManager\n",
    "from selenium.webdriver.common.keys import Keys\n",
    "from selenium.webdriver.common.by import By\n",
    "import time\n",
    "\n",
    "driver = webdriver.Chrome(service=ChromeService(ChromeDriverManager().install()))\n",
    "nate_list_1st = []\n",
    "nate_list_2nd = []\n",
    "for i in range(2):\n",
    "    URL='https://www.nate.com'\n",
    "    driver.get(url=URL) \n",
    "    rank_results = driver.find_elements(By.CSS_SELECTOR,'#olLiveIssueKeyword > li > span.num_rank')\n",
    "    nate_results = driver.find_elements(By.CSS_SELECTOR,'#olLiveIssueKeyword > li > a > span.txt_rank')\n",
    "    for rank, keyword in zip(rank_results, nate_results):\n",
    "        if i == 0:  # 첫 번째 화면\n",
    "            nate_list_1st.append(f'{rank.text}_{keyword.text}')\n",
    "        elif i == 1:  # 두 번째 화면\n",
    "            nate_list_2nd.append(f'{rank.text}_{keyword.text}')\n",
    "    time.sleep(5)\n",
    "    driver.refresh()  # 드라이버 재시동\n",
    "result = nate_list_1st + nate_list_2nd\n",
    "\n",
    "print(result)\n",
    "driver.quit()"
   ]
  },
  {
   "cell_type": "code",
   "execution_count": 44,
   "id": "79899bdd-90a4-4e1c-a508-1d2c7863d1db",
   "metadata": {},
   "outputs": [],
   "source": [
    "driver.quit()"
   ]
  },
  {
   "cell_type": "code",
   "execution_count": null,
   "id": "97786199-3343-4b3d-8020-f13380938320",
   "metadata": {},
   "outputs": [],
   "source": []
  }
 ],
 "metadata": {
  "kernelspec": {
   "display_name": "Python 3 (ipykernel)",
   "language": "python",
   "name": "python3"
  },
  "language_info": {
   "codemirror_mode": {
    "name": "ipython",
    "version": 3
   },
   "file_extension": ".py",
   "mimetype": "text/x-python",
   "name": "python",
   "nbconvert_exporter": "python",
   "pygments_lexer": "ipython3",
   "version": "3.9.13"
  }
 },
 "nbformat": 4,
 "nbformat_minor": 5
}
